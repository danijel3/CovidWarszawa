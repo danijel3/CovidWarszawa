{
 "cells": [
  {
   "cell_type": "markdown",
   "metadata": {},
   "source": [
    "# Statystyki na temat koronowirusa z Warszawy\n",
    "\n",
    "Źródło danych: https://www.pssewawa.pl/"
   ]
  },
  {
   "cell_type": "code",
   "execution_count": 1,
   "metadata": {},
   "outputs": [
    {
     "name": "stdout",
     "output_type": "stream",
     "text": [
      "Populating the interactive namespace from numpy and matplotlib\n"
     ]
    },
    {
     "data": {
      "text/html": [
       "<div>\n",
       "<style scoped>\n",
       "    .dataframe tbody tr th:only-of-type {\n",
       "        vertical-align: middle;\n",
       "    }\n",
       "\n",
       "    .dataframe tbody tr th {\n",
       "        vertical-align: top;\n",
       "    }\n",
       "\n",
       "    .dataframe thead th {\n",
       "        text-align: right;\n",
       "    }\n",
       "</style>\n",
       "<table border=\"1\" class=\"dataframe\">\n",
       "  <thead>\n",
       "    <tr style=\"text-align: right;\">\n",
       "      <th></th>\n",
       "      <th>liczba osób aktualnie objętych kwarantanną domową</th>\n",
       "      <th>liczba osób aktualnie objętych izolacją domową</th>\n",
       "      <th>liczba osób aktualnie objętych pobytem w izolatorium</th>\n",
       "      <th>liczba osób aktualnie objętych nadzorem epidemiologicznym</th>\n",
       "      <th>liczba osób hospitalizowanych z powodu podejrzenia zakażenia COVID-19</th>\n",
       "      <th>liczba przypadków potwierdzonych laboratoryjnie z wynikiem dodatnim</th>\n",
       "      <th>liczba zgonów związanych z COVID-19</th>\n",
       "      <th>liczba ozdrowieńców</th>\n",
       "    </tr>\n",
       "    <tr>\n",
       "      <th>data</th>\n",
       "      <th></th>\n",
       "      <th></th>\n",
       "      <th></th>\n",
       "      <th></th>\n",
       "      <th></th>\n",
       "      <th></th>\n",
       "      <th></th>\n",
       "      <th></th>\n",
       "    </tr>\n",
       "  </thead>\n",
       "  <tbody>\n",
       "    <tr>\n",
       "      <th>2020-05-11</th>\n",
       "      <td>323</td>\n",
       "      <td>97</td>\n",
       "      <td>0</td>\n",
       "      <td>506</td>\n",
       "      <td>249</td>\n",
       "      <td>856</td>\n",
       "      <td>78</td>\n",
       "      <td>199</td>\n",
       "    </tr>\n",
       "    <tr>\n",
       "      <th>2020-05-12</th>\n",
       "      <td>292</td>\n",
       "      <td>82</td>\n",
       "      <td>0</td>\n",
       "      <td>498</td>\n",
       "      <td>373</td>\n",
       "      <td>867</td>\n",
       "      <td>79</td>\n",
       "      <td>212</td>\n",
       "    </tr>\n",
       "    <tr>\n",
       "      <th>2020-05-13</th>\n",
       "      <td>260</td>\n",
       "      <td>80</td>\n",
       "      <td>0</td>\n",
       "      <td>485</td>\n",
       "      <td>365</td>\n",
       "      <td>883</td>\n",
       "      <td>80</td>\n",
       "      <td>220</td>\n",
       "    </tr>\n",
       "    <tr>\n",
       "      <th>2020-05-14</th>\n",
       "      <td>279</td>\n",
       "      <td>81</td>\n",
       "      <td>0</td>\n",
       "      <td>487</td>\n",
       "      <td>368</td>\n",
       "      <td>895</td>\n",
       "      <td>80</td>\n",
       "      <td>229</td>\n",
       "    </tr>\n",
       "    <tr>\n",
       "      <th>2020-05-15</th>\n",
       "      <td>253</td>\n",
       "      <td>81</td>\n",
       "      <td>0</td>\n",
       "      <td>489</td>\n",
       "      <td>231</td>\n",
       "      <td>904</td>\n",
       "      <td>80</td>\n",
       "      <td>231</td>\n",
       "    </tr>\n",
       "    <tr>\n",
       "      <th>2020-05-16</th>\n",
       "      <td>269</td>\n",
       "      <td>79</td>\n",
       "      <td>0</td>\n",
       "      <td>445</td>\n",
       "      <td>305</td>\n",
       "      <td>907</td>\n",
       "      <td>80</td>\n",
       "      <td>232</td>\n",
       "    </tr>\n",
       "    <tr>\n",
       "      <th>2020-05-17</th>\n",
       "      <td>217</td>\n",
       "      <td>78</td>\n",
       "      <td>0</td>\n",
       "      <td>436</td>\n",
       "      <td>348</td>\n",
       "      <td>912</td>\n",
       "      <td>80</td>\n",
       "      <td>254</td>\n",
       "    </tr>\n",
       "    <tr>\n",
       "      <th>2020-05-18</th>\n",
       "      <td>214</td>\n",
       "      <td>76</td>\n",
       "      <td>0</td>\n",
       "      <td>412</td>\n",
       "      <td>333</td>\n",
       "      <td>917</td>\n",
       "      <td>80</td>\n",
       "      <td>271</td>\n",
       "    </tr>\n",
       "    <tr>\n",
       "      <th>2020-05-19</th>\n",
       "      <td>243</td>\n",
       "      <td>79</td>\n",
       "      <td>0</td>\n",
       "      <td>423</td>\n",
       "      <td>409</td>\n",
       "      <td>927</td>\n",
       "      <td>82</td>\n",
       "      <td>284</td>\n",
       "    </tr>\n",
       "    <tr>\n",
       "      <th>2020-05-20</th>\n",
       "      <td>273</td>\n",
       "      <td>75</td>\n",
       "      <td>0</td>\n",
       "      <td>429</td>\n",
       "      <td>365</td>\n",
       "      <td>937</td>\n",
       "      <td>83</td>\n",
       "      <td>291</td>\n",
       "    </tr>\n",
       "    <tr>\n",
       "      <th>2020-05-21</th>\n",
       "      <td>318</td>\n",
       "      <td>79</td>\n",
       "      <td>0</td>\n",
       "      <td>432</td>\n",
       "      <td>320</td>\n",
       "      <td>952</td>\n",
       "      <td>84</td>\n",
       "      <td>306</td>\n",
       "    </tr>\n",
       "    <tr>\n",
       "      <th>2020-05-22</th>\n",
       "      <td>433</td>\n",
       "      <td>85</td>\n",
       "      <td>0</td>\n",
       "      <td>402</td>\n",
       "      <td>356</td>\n",
       "      <td>963</td>\n",
       "      <td>86</td>\n",
       "      <td>311</td>\n",
       "    </tr>\n",
       "    <tr>\n",
       "      <th>2020-05-23</th>\n",
       "      <td>562</td>\n",
       "      <td>90</td>\n",
       "      <td>0</td>\n",
       "      <td>412</td>\n",
       "      <td>329</td>\n",
       "      <td>988</td>\n",
       "      <td>86</td>\n",
       "      <td>311</td>\n",
       "    </tr>\n",
       "    <tr>\n",
       "      <th>2020-05-24</th>\n",
       "      <td>691</td>\n",
       "      <td>97</td>\n",
       "      <td>0</td>\n",
       "      <td>418</td>\n",
       "      <td>355</td>\n",
       "      <td>992</td>\n",
       "      <td>86</td>\n",
       "      <td>317</td>\n",
       "    </tr>\n",
       "    <tr>\n",
       "      <th>2020-05-25</th>\n",
       "      <td>748</td>\n",
       "      <td>99</td>\n",
       "      <td>0</td>\n",
       "      <td>446</td>\n",
       "      <td>345</td>\n",
       "      <td>1032</td>\n",
       "      <td>91</td>\n",
       "      <td>317</td>\n",
       "    </tr>\n",
       "    <tr>\n",
       "      <th>2020-05-26</th>\n",
       "      <td>840</td>\n",
       "      <td>104</td>\n",
       "      <td>0</td>\n",
       "      <td>472</td>\n",
       "      <td>438</td>\n",
       "      <td>1087</td>\n",
       "      <td>91</td>\n",
       "      <td>330</td>\n",
       "    </tr>\n",
       "  </tbody>\n",
       "</table>\n",
       "</div>"
      ],
      "text/plain": [
       "            liczba osób aktualnie objętych kwarantanną domową  \\\n",
       "data                                                            \n",
       "2020-05-11                                                323   \n",
       "2020-05-12                                                292   \n",
       "2020-05-13                                                260   \n",
       "2020-05-14                                                279   \n",
       "2020-05-15                                                253   \n",
       "2020-05-16                                                269   \n",
       "2020-05-17                                                217   \n",
       "2020-05-18                                                214   \n",
       "2020-05-19                                                243   \n",
       "2020-05-20                                                273   \n",
       "2020-05-21                                                318   \n",
       "2020-05-22                                                433   \n",
       "2020-05-23                                                562   \n",
       "2020-05-24                                                691   \n",
       "2020-05-25                                                748   \n",
       "2020-05-26                                                840   \n",
       "\n",
       "            liczba osób aktualnie objętych izolacją domową  \\\n",
       "data                                                         \n",
       "2020-05-11                                              97   \n",
       "2020-05-12                                              82   \n",
       "2020-05-13                                              80   \n",
       "2020-05-14                                              81   \n",
       "2020-05-15                                              81   \n",
       "2020-05-16                                              79   \n",
       "2020-05-17                                              78   \n",
       "2020-05-18                                              76   \n",
       "2020-05-19                                              79   \n",
       "2020-05-20                                              75   \n",
       "2020-05-21                                              79   \n",
       "2020-05-22                                              85   \n",
       "2020-05-23                                              90   \n",
       "2020-05-24                                              97   \n",
       "2020-05-25                                              99   \n",
       "2020-05-26                                             104   \n",
       "\n",
       "            liczba osób aktualnie objętych pobytem w izolatorium  \\\n",
       "data                                                               \n",
       "2020-05-11                                                  0      \n",
       "2020-05-12                                                  0      \n",
       "2020-05-13                                                  0      \n",
       "2020-05-14                                                  0      \n",
       "2020-05-15                                                  0      \n",
       "2020-05-16                                                  0      \n",
       "2020-05-17                                                  0      \n",
       "2020-05-18                                                  0      \n",
       "2020-05-19                                                  0      \n",
       "2020-05-20                                                  0      \n",
       "2020-05-21                                                  0      \n",
       "2020-05-22                                                  0      \n",
       "2020-05-23                                                  0      \n",
       "2020-05-24                                                  0      \n",
       "2020-05-25                                                  0      \n",
       "2020-05-26                                                  0      \n",
       "\n",
       "            liczba osób aktualnie objętych nadzorem epidemiologicznym  \\\n",
       "data                                                                    \n",
       "2020-05-11                                                506           \n",
       "2020-05-12                                                498           \n",
       "2020-05-13                                                485           \n",
       "2020-05-14                                                487           \n",
       "2020-05-15                                                489           \n",
       "2020-05-16                                                445           \n",
       "2020-05-17                                                436           \n",
       "2020-05-18                                                412           \n",
       "2020-05-19                                                423           \n",
       "2020-05-20                                                429           \n",
       "2020-05-21                                                432           \n",
       "2020-05-22                                                402           \n",
       "2020-05-23                                                412           \n",
       "2020-05-24                                                418           \n",
       "2020-05-25                                                446           \n",
       "2020-05-26                                                472           \n",
       "\n",
       "            liczba osób hospitalizowanych z powodu podejrzenia zakażenia COVID-19  \\\n",
       "data                                                                                \n",
       "2020-05-11                                                249                       \n",
       "2020-05-12                                                373                       \n",
       "2020-05-13                                                365                       \n",
       "2020-05-14                                                368                       \n",
       "2020-05-15                                                231                       \n",
       "2020-05-16                                                305                       \n",
       "2020-05-17                                                348                       \n",
       "2020-05-18                                                333                       \n",
       "2020-05-19                                                409                       \n",
       "2020-05-20                                                365                       \n",
       "2020-05-21                                                320                       \n",
       "2020-05-22                                                356                       \n",
       "2020-05-23                                                329                       \n",
       "2020-05-24                                                355                       \n",
       "2020-05-25                                                345                       \n",
       "2020-05-26                                                438                       \n",
       "\n",
       "            liczba przypadków potwierdzonych laboratoryjnie z wynikiem dodatnim  \\\n",
       "data                                                                              \n",
       "2020-05-11                                                856                     \n",
       "2020-05-12                                                867                     \n",
       "2020-05-13                                                883                     \n",
       "2020-05-14                                                895                     \n",
       "2020-05-15                                                904                     \n",
       "2020-05-16                                                907                     \n",
       "2020-05-17                                                912                     \n",
       "2020-05-18                                                917                     \n",
       "2020-05-19                                                927                     \n",
       "2020-05-20                                                937                     \n",
       "2020-05-21                                                952                     \n",
       "2020-05-22                                                963                     \n",
       "2020-05-23                                                988                     \n",
       "2020-05-24                                                992                     \n",
       "2020-05-25                                               1032                     \n",
       "2020-05-26                                               1087                     \n",
       "\n",
       "            liczba zgonów związanych z COVID-19  liczba ozdrowieńców  \n",
       "data                                                                  \n",
       "2020-05-11                                   78                  199  \n",
       "2020-05-12                                   79                  212  \n",
       "2020-05-13                                   80                  220  \n",
       "2020-05-14                                   80                  229  \n",
       "2020-05-15                                   80                  231  \n",
       "2020-05-16                                   80                  232  \n",
       "2020-05-17                                   80                  254  \n",
       "2020-05-18                                   80                  271  \n",
       "2020-05-19                                   82                  284  \n",
       "2020-05-20                                   83                  291  \n",
       "2020-05-21                                   84                  306  \n",
       "2020-05-22                                   86                  311  \n",
       "2020-05-23                                   86                  311  \n",
       "2020-05-24                                   86                  317  \n",
       "2020-05-25                                   91                  317  \n",
       "2020-05-26                                   91                  330  "
      ]
     },
     "execution_count": 1,
     "metadata": {},
     "output_type": "execute_result"
    }
   ],
   "source": [
    "%pylab inline\n",
    "import pandas as pd\n",
    "\n",
    "df=pd.read_pickle('out.pkl')\n",
    "\n",
    "df.set_index('data',inplace=True)\n",
    "df.sort_index(inplace=True)\n",
    "df"
   ]
  },
  {
   "cell_type": "markdown",
   "metadata": {},
   "source": [
    "## Liczba wszystkich przypadków\n",
    "\n",
    "(sumarycznie od początku epidemii)"
   ]
  },
  {
   "cell_type": "code",
   "execution_count": 2,
   "metadata": {
    "pycharm": {
     "name": "#%%\n"
    }
   },
   "outputs": [
    {
     "data": {
      "text/plain": [
       "<matplotlib.legend.Legend at 0x7f2471ef3ca0>"
      ]
     },
     "execution_count": 2,
     "metadata": {},
     "output_type": "execute_result"
    },
    {
     "data": {
      "image/png": "[encoded data removed]",
      "text/plain": [
       "<Figure size 1080x360 with 1 Axes>"
      ]
     },
     "metadata": {
      "needs_background": "light"
     },
     "output_type": "display_data"
    }
   ],
   "source": [
    "figure(figsize=(15,5))\n",
    "\n",
    "dod=df['liczba przypadków potwierdzonych laboratoryjnie z wynikiem dodatnim']\n",
    "plot(dod,label='Positive cases')\n",
    "\n",
    "zg=df['liczba zgonów związanych z COVID-19']\n",
    "oz=df['liczba ozdrowieńców']\n",
    "kon=zg+oz\n",
    "plot(kon,label='Closed cases')\n",
    "legend()"
   ]
  },
  {
   "cell_type": "markdown",
   "metadata": {},
   "source": [
    "### Obecnie aktywne przypadki"
   ]
  },
  {
   "cell_type": "code",
   "execution_count": 3,
   "metadata": {},
   "outputs": [
    {
     "data": {
      "text/plain": [
       "[<matplotlib.lines.Line2D at 0x7f2471d08eb0>]"
      ]
     },
     "execution_count": 3,
     "metadata": {},
     "output_type": "execute_result"
    },
    {
     "data": {
      "image/png": "[encoded data removed]",
      "text/plain": [
       "<Figure size 1080x360 with 1 Axes>"
      ]
     },
     "metadata": {
      "needs_background": "light"
     },
     "output_type": "display_data"
    }
   ],
   "source": [
    "figure(figsize=(15,5))\n",
    "plot(dod-kon)"
   ]
  },
  {
   "cell_type": "markdown",
   "metadata": {},
   "source": [
    "## Przyrost dzienny"
   ]
  },
  {
   "cell_type": "code",
   "execution_count": 4,
   "metadata": {
    "pycharm": {
     "name": "#%%\n"
    }
   },
   "outputs": [
    {
     "data": {
      "text/plain": [
       "<matplotlib.legend.Legend at 0x7f2471e7b190>"
      ]
     },
     "execution_count": 4,
     "metadata": {},
     "output_type": "execute_result"
    },
    {
     "data": {
      "image/png": "[encoded data removed]",
      "text/plain": [
       "<Figure size 1080x360 with 1 Axes>"
      ]
     },
     "metadata": {
      "needs_background": "light"
     },
     "output_type": "display_data"
    }
   ],
   "source": [
    "figure(figsize=(15,5))\n",
    "plot(dod.diff(),label='Positive cases')\n",
    "plot(kon.diff(),label='Closed cases')\n",
    "legend()"
   ]
  },
  {
   "cell_type": "markdown",
   "metadata": {},
   "source": [
    "### Bilans dnia"
   ]
  },
  {
   "cell_type": "code",
   "execution_count": 5,
   "metadata": {},
   "outputs": [
    {
     "data": {
      "text/plain": [
       "<BarContainer object of 16 artists>"
      ]
     },
     "execution_count": 5,
     "metadata": {},
     "output_type": "execute_result"
    },
    {
     "data": {
      "image/png": "[encoded data removed]",
      "text/plain": [
       "<Figure size 1080x360 with 1 Axes>"
      ]
     },
     "metadata": {
      "needs_background": "light"
     },
     "output_type": "display_data"
    }
   ],
   "source": [
    "figure(figsize=(15,5))\n",
    "bar(df.index,dod.diff()-kon.diff())"
   ]
  }
 ],
 "metadata": {
  "kernelspec": {
   "display_name": "Python 3",
   "language": "python",
   "name": "python3"
  },
  "language_info": {
   "codemirror_mode": {
    "name": "ipython",
    "version": 3
   },
   "file_extension": ".py",
   "mimetype": "text/x-python",
   "name": "python",
   "nbconvert_exporter": "python",
   "pygments_lexer": "ipython3",
   "version": "3.8.2"
  }
 },
 "nbformat": 4,
 "nbformat_minor": 1
}
